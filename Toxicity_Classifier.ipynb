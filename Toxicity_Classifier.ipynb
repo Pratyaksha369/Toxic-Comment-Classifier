{
 "cells": [
  {
   "cell_type": "code",
   "execution_count": 1,
   "id": "1a8bb87a-aadf-4b06-acfb-cbb59df685b8",
   "metadata": {},
   "outputs": [],
   "source": [
    "import pandas as pd\n",
    "import numpy as np\n",
    "import matplotlib.pyplot as plt \n",
    "%matplotlib inline"
   ]
  },
  {
   "cell_type": "code",
   "execution_count": 2,
   "id": "e397f904-70db-4625-9bfc-bd77c9644f92",
   "metadata": {},
   "outputs": [],
   "source": [
    "data = pd.read_csv(\"FinalBalancedDataset.csv\")"
   ]
  },
  {
   "cell_type": "code",
   "execution_count": 3,
   "id": "c9235698-76d4-4f91-a072-f765d10ffcab",
   "metadata": {},
   "outputs": [
    {
     "name": "stdout",
     "output_type": "stream",
     "text": [
      "<class 'pandas.core.frame.DataFrame'>\n",
      "RangeIndex: 56745 entries, 0 to 56744\n",
      "Data columns (total 3 columns):\n",
      " #   Column      Non-Null Count  Dtype \n",
      "---  ------      --------------  ----- \n",
      " 0   Unnamed: 0  56745 non-null  int64 \n",
      " 1   Toxicity    56745 non-null  int64 \n",
      " 2   tweet       56745 non-null  object\n",
      "dtypes: int64(2), object(1)\n",
      "memory usage: 1.3+ MB\n"
     ]
    }
   ],
   "source": [
    "data.info()"
   ]
  },
  {
   "cell_type": "code",
   "execution_count": 4,
   "id": "11dc2e93-53e3-4a0e-ba27-2e227d38bfa0",
   "metadata": {},
   "outputs": [
    {
     "data": {
      "text/html": [
       "<div>\n",
       "<style scoped>\n",
       "    .dataframe tbody tr th:only-of-type {\n",
       "        vertical-align: middle;\n",
       "    }\n",
       "\n",
       "    .dataframe tbody tr th {\n",
       "        vertical-align: top;\n",
       "    }\n",
       "\n",
       "    .dataframe thead th {\n",
       "        text-align: right;\n",
       "    }\n",
       "</style>\n",
       "<table border=\"1\" class=\"dataframe\">\n",
       "  <thead>\n",
       "    <tr style=\"text-align: right;\">\n",
       "      <th></th>\n",
       "      <th>Unnamed: 0</th>\n",
       "      <th>Toxicity</th>\n",
       "      <th>tweet</th>\n",
       "    </tr>\n",
       "  </thead>\n",
       "  <tbody>\n",
       "    <tr>\n",
       "      <th>0</th>\n",
       "      <td>0</td>\n",
       "      <td>0</td>\n",
       "      <td>@user when a father is dysfunctional and is s...</td>\n",
       "    </tr>\n",
       "    <tr>\n",
       "      <th>1</th>\n",
       "      <td>1</td>\n",
       "      <td>0</td>\n",
       "      <td>@user @user thanks for #lyft credit i can't us...</td>\n",
       "    </tr>\n",
       "    <tr>\n",
       "      <th>2</th>\n",
       "      <td>2</td>\n",
       "      <td>0</td>\n",
       "      <td>bihday your majesty</td>\n",
       "    </tr>\n",
       "    <tr>\n",
       "      <th>3</th>\n",
       "      <td>3</td>\n",
       "      <td>0</td>\n",
       "      <td>#model   i love u take with u all the time in ...</td>\n",
       "    </tr>\n",
       "    <tr>\n",
       "      <th>4</th>\n",
       "      <td>4</td>\n",
       "      <td>0</td>\n",
       "      <td>factsguide: society now    #motivation</td>\n",
       "    </tr>\n",
       "  </tbody>\n",
       "</table>\n",
       "</div>"
      ],
      "text/plain": [
       "   Unnamed: 0  Toxicity                                              tweet\n",
       "0           0         0   @user when a father is dysfunctional and is s...\n",
       "1           1         0  @user @user thanks for #lyft credit i can't us...\n",
       "2           2         0                                bihday your majesty\n",
       "3           3         0  #model   i love u take with u all the time in ...\n",
       "4           4         0             factsguide: society now    #motivation"
      ]
     },
     "execution_count": 4,
     "metadata": {},
     "output_type": "execute_result"
    }
   ],
   "source": [
    "data.head(5)"
   ]
  },
  {
   "cell_type": "code",
   "execution_count": 5,
   "id": "dfaeea48-31ad-460f-9f1c-67457eff955e",
   "metadata": {},
   "outputs": [],
   "source": [
    "data = data.drop(\"Unnamed: 0\", axis=1)"
   ]
  },
  {
   "cell_type": "code",
   "execution_count": 6,
   "id": "c9fca622-d71e-4514-8e9a-9819a1fb537a",
   "metadata": {},
   "outputs": [
    {
     "data": {
      "text/plain": [
       "Toxicity\n",
       "0    32592\n",
       "1    24153\n",
       "Name: count, dtype: int64"
      ]
     },
     "execution_count": 6,
     "metadata": {},
     "output_type": "execute_result"
    }
   ],
   "source": [
    "data['Toxicity'].value_counts()"
   ]
  },
  {
   "cell_type": "code",
   "execution_count": 7,
   "id": "34bb8ef4-5346-4519-b9f0-31cdd33e2150",
   "metadata": {},
   "outputs": [
    {
     "name": "stderr",
     "output_type": "stream",
     "text": [
      "[nltk_data] Downloading package punkt to\n",
      "[nltk_data]     C:\\Users\\DELL\\AppData\\Roaming\\nltk_data...\n",
      "[nltk_data]   Package punkt is already up-to-date!\n",
      "[nltk_data] Downloading package omw-1.4 to\n",
      "[nltk_data]     C:\\Users\\DELL\\AppData\\Roaming\\nltk_data...\n",
      "[nltk_data]   Package omw-1.4 is already up-to-date!\n",
      "[nltk_data] Downloading package wordnet to\n",
      "[nltk_data]     C:\\Users\\DELL\\AppData\\Roaming\\nltk_data...\n",
      "[nltk_data]   Package wordnet is already up-to-date!\n",
      "[nltk_data] Downloading package stopwords to\n",
      "[nltk_data]     C:\\Users\\DELL\\AppData\\Roaming\\nltk_data...\n",
      "[nltk_data]   Package stopwords is already up-to-date!\n",
      "[nltk_data] Downloading package averaged_perceptron_tagger to\n",
      "[nltk_data]     C:\\Users\\DELL\\AppData\\Roaming\\nltk_data...\n",
      "[nltk_data]   Package averaged_perceptron_tagger is already up-to-\n",
      "[nltk_data]       date!\n"
     ]
    }
   ],
   "source": [
    "import nltk\n",
    "nltk.download('punkt')\n",
    "nltk.download('omw-1.4')\n",
    "nltk.download('wordnet')\n",
    "nltk.download('stopwords')\n",
    "nltk.download('averaged_perceptron_tagger')\n",
    "from nltk import WordNetLemmatizer\n",
    "from nltk import pos_tag, word_tokenize\n",
    "from nltk.corpus import stopwords as nltk_stopwords\n",
    "from nltk.corpus import wordnet"
   ]
  },
  {
   "cell_type": "markdown",
   "id": "1368772f-60ff-40cc-b751-1c7943a8a19a",
   "metadata": {},
   "source": [
    "## Text pre-processing"
   ]
  },
  {
   "cell_type": "code",
   "execution_count": 9,
   "id": "db2ae773-28f0-4514-951b-427758b5b216",
   "metadata": {},
   "outputs": [],
   "source": [
    "wordnet_lemmatizer = WordNetLemmatizer()"
   ]
  },
  {
   "cell_type": "code",
   "execution_count": 10,
   "id": "f64c2404-334f-45a8-ac87-bc79c5a796b6",
   "metadata": {},
   "outputs": [],
   "source": [
    "import re"
   ]
  },
  {
   "cell_type": "code",
   "execution_count": 11,
   "id": "3c3f9b66-71ad-4c03-b431-493f2bafdfeb",
   "metadata": {},
   "outputs": [],
   "source": [
    "def prepare_text(text):\n",
    "    def get_wordnet_pos(treebank_tag):\n",
    "        if treebank_tag.startswith('J'):\n",
    "            return wordnet.ADJ\n",
    "        elif treebank_tag.startswith('V'):\n",
    "            return wordnet.VERB\n",
    "        elif treebank_tag.startswith('N'):\n",
    "            return wordnet.NOUN\n",
    "        elif treebank_tag.startswith('R'):\n",
    "            return wordnet.ADV\n",
    "        else:\n",
    "            return wordnet.NOUN\n",
    "    text = re.sub(r'[^a-zA-Z\\']', ' ', text)\n",
    "    text = text.split()\n",
    "    text = ' '.join(text)\n",
    "    text = word_tokenize(text)\n",
    "    text = pos_tag(text)\n",
    "    lemma = []\n",
    "    for i in text: lemma.append(wordnet_lemmatizer.lemmatize(i[0], pos = get_wordnet_pos(i[1])))\n",
    "    lemma = ' '.join(lemma)\n",
    "    return lemma"
   ]
  },
  {
   "cell_type": "code",
   "execution_count": 12,
   "id": "301024c2-73dd-4590-8f5a-8cd21da91579",
   "metadata": {},
   "outputs": [],
   "source": [
    "data['clean_tweets'] = data['tweet'].apply(lambda x: prepare_text(x))"
   ]
  },
  {
   "cell_type": "code",
   "execution_count": 13,
   "id": "762dceb4-ff2c-4624-a6c3-a774136535fd",
   "metadata": {},
   "outputs": [
    {
     "data": {
      "text/html": [
       "<div>\n",
       "<style scoped>\n",
       "    .dataframe tbody tr th:only-of-type {\n",
       "        vertical-align: middle;\n",
       "    }\n",
       "\n",
       "    .dataframe tbody tr th {\n",
       "        vertical-align: top;\n",
       "    }\n",
       "\n",
       "    .dataframe thead th {\n",
       "        text-align: right;\n",
       "    }\n",
       "</style>\n",
       "<table border=\"1\" class=\"dataframe\">\n",
       "  <thead>\n",
       "    <tr style=\"text-align: right;\">\n",
       "      <th></th>\n",
       "      <th>Toxicity</th>\n",
       "      <th>tweet</th>\n",
       "      <th>clean_tweets</th>\n",
       "    </tr>\n",
       "  </thead>\n",
       "  <tbody>\n",
       "    <tr>\n",
       "      <th>0</th>\n",
       "      <td>0</td>\n",
       "      <td>@user when a father is dysfunctional and is s...</td>\n",
       "      <td>user when a father be dysfunctional and be so ...</td>\n",
       "    </tr>\n",
       "    <tr>\n",
       "      <th>1</th>\n",
       "      <td>0</td>\n",
       "      <td>@user @user thanks for #lyft credit i can't us...</td>\n",
       "      <td>user user thanks for lyft credit i ca n't use ...</td>\n",
       "    </tr>\n",
       "    <tr>\n",
       "      <th>2</th>\n",
       "      <td>0</td>\n",
       "      <td>bihday your majesty</td>\n",
       "      <td>bihday your majesty</td>\n",
       "    </tr>\n",
       "    <tr>\n",
       "      <th>3</th>\n",
       "      <td>0</td>\n",
       "      <td>#model   i love u take with u all the time in ...</td>\n",
       "      <td>model i love u take with u all the time in ur</td>\n",
       "    </tr>\n",
       "    <tr>\n",
       "      <th>4</th>\n",
       "      <td>0</td>\n",
       "      <td>factsguide: society now    #motivation</td>\n",
       "      <td>factsguide society now motivation</td>\n",
       "    </tr>\n",
       "  </tbody>\n",
       "</table>\n",
       "</div>"
      ],
      "text/plain": [
       "   Toxicity                                              tweet  \\\n",
       "0         0   @user when a father is dysfunctional and is s...   \n",
       "1         0  @user @user thanks for #lyft credit i can't us...   \n",
       "2         0                                bihday your majesty   \n",
       "3         0  #model   i love u take with u all the time in ...   \n",
       "4         0             factsguide: society now    #motivation   \n",
       "\n",
       "                                        clean_tweets  \n",
       "0  user when a father be dysfunctional and be so ...  \n",
       "1  user user thanks for lyft credit i ca n't use ...  \n",
       "2                                bihday your majesty  \n",
       "3      model i love u take with u all the time in ur  \n",
       "4                  factsguide society now motivation  "
      ]
     },
     "execution_count": 13,
     "metadata": {},
     "output_type": "execute_result"
    }
   ],
   "source": [
    "data.head(5)"
   ]
  },
  {
   "cell_type": "markdown",
   "id": "94bb3dc5-25a7-46ff-9a15-a4a7a3a96402",
   "metadata": {},
   "source": [
    "## Tfidf for features"
   ]
  },
  {
   "cell_type": "code",
   "execution_count": 19,
   "id": "3ef312e8-958c-4a76-a966-db39bc561d79",
   "metadata": {},
   "outputs": [],
   "source": [
    "from sklearn.feature_extraction.text import TfidfVectorizer\n",
    "from sklearn.model_selection import train_test_split \n",
    "from sklearn.naive_bayes import MultinomialNB\n",
    "from sklearn.metrics import roc_auc_score\n",
    "from sklearn.metrics import roc_curve"
   ]
  },
  {
   "cell_type": "code",
   "execution_count": 21,
   "id": "c504ddef-75fd-49b0-8c06-4b764ecd890d",
   "metadata": {},
   "outputs": [],
   "source": [
    "corpus = data['clean_tweets'].values.astype('U')"
   ]
  },
  {
   "cell_type": "code",
   "execution_count": 23,
   "id": "4a207b13-1fda-4429-9030-1584b6e42123",
   "metadata": {},
   "outputs": [],
   "source": [
    "stopwords = set(nltk_stopwords.words('english'))"
   ]
  },
  {
   "cell_type": "code",
   "execution_count": 27,
   "id": "70fa45e9-4e33-4726-8725-48c55a671e20",
   "metadata": {},
   "outputs": [],
   "source": [
    "count_tf_idf = TfidfVectorizer(stop_words = list(stopwords))\n",
    "tf_idf = count_tf_idf.fit_transform(corpus)"
   ]
  },
  {
   "cell_type": "code",
   "execution_count": 29,
   "id": "2a86c944-33bb-448c-a781-dc8c9b45fdd5",
   "metadata": {},
   "outputs": [],
   "source": [
    "import pickle"
   ]
  },
  {
   "cell_type": "code",
   "execution_count": 31,
   "id": "5d13407e-1cd2-473b-9fd0-df79b75a8c8d",
   "metadata": {},
   "outputs": [],
   "source": [
    "pickle.dump(count_tf_idf, open(\"tf_idf.pkt\", \"wb\"))"
   ]
  },
  {
   "cell_type": "code",
   "execution_count": 33,
   "id": "2197a58f-4a62-44c3-95e3-f165b62e0982",
   "metadata": {},
   "outputs": [],
   "source": [
    "tf_idf_train, tf_idf_test, target_train, target_test = train_test_split(\n",
    "    tf_idf, data['Toxicity'], test_size = 0.8, random_state= 42, shuffle=True)"
   ]
  },
  {
   "cell_type": "markdown",
   "id": "120595a4-20e2-45b9-97cf-f07b1d125eaf",
   "metadata": {},
   "source": [
    "## Create a Binary Classification Model"
   ]
  },
  {
   "cell_type": "code",
   "execution_count": 36,
   "id": "dbc8a073-d2e6-4933-8ca7-366de08143c3",
   "metadata": {},
   "outputs": [],
   "source": [
    "model_bayes = MultinomialNB()"
   ]
  },
  {
   "cell_type": "code",
   "execution_count": 38,
   "id": "4e8f4b63-6759-45cb-9119-59f1a31fd918",
   "metadata": {},
   "outputs": [],
   "source": [
    "model_bayes = model_bayes.fit(tf_idf_train, target_train)"
   ]
  },
  {
   "cell_type": "code",
   "execution_count": 40,
   "id": "605cc83c-c4c5-41ad-8d43-b063fed03ca3",
   "metadata": {},
   "outputs": [],
   "source": [
    "y_pred_proba = model_bayes.predict_proba(tf_idf_test)[::, 1]"
   ]
  },
  {
   "cell_type": "code",
   "execution_count": 42,
   "id": "196e7b56-e790-4317-817f-36600f54f9c8",
   "metadata": {},
   "outputs": [
    {
     "data": {
      "text/plain": [
       "array([0.90152453, 0.27916787, 0.79021827, ..., 0.09487729, 0.20555162,\n",
       "       0.32090192])"
      ]
     },
     "execution_count": 42,
     "metadata": {},
     "output_type": "execute_result"
    }
   ],
   "source": [
    "y_pred_proba"
   ]
  },
  {
   "cell_type": "code",
   "execution_count": 44,
   "id": "a64a4892-4206-4d30-808a-d5d8e2cb40e9",
   "metadata": {},
   "outputs": [],
   "source": [
    "fpr, tpr, _ = roc_curve(target_test, y_pred_proba)"
   ]
  },
  {
   "cell_type": "code",
   "execution_count": 46,
   "id": "e4f4b222-1c31-4eb8-b3a6-3023a31d634c",
   "metadata": {},
   "outputs": [],
   "source": [
    "final_roc_auc = roc_auc_score(target_test, y_pred_proba)"
   ]
  },
  {
   "cell_type": "code",
   "execution_count": 48,
   "id": "c9b849c3-aae9-411f-a793-ddb95fcb08ae",
   "metadata": {},
   "outputs": [
    {
     "data": {
      "text/plain": [
       "0.9658691315317345"
      ]
     },
     "execution_count": 48,
     "metadata": {},
     "output_type": "execute_result"
    }
   ],
   "source": [
    "final_roc_auc"
   ]
  },
  {
   "cell_type": "code",
   "execution_count": 50,
   "id": "64b4a3dc-921e-4fed-acef-3c7a653477b7",
   "metadata": {},
   "outputs": [
    {
     "data": {
      "text/plain": [
       "array([[0.39920068, 0.60079932]])"
      ]
     },
     "metadata": {},
     "output_type": "display_data"
    },
    {
     "data": {
      "text/plain": [
       "array([1], dtype=int64)"
      ]
     },
     "metadata": {},
     "output_type": "display_data"
    }
   ],
   "source": [
    "test_text = \"I hate you moron\"\n",
    "test_tfidf = count_tf_idf.transform([test_text])\n",
    "display(model_bayes.predict_proba(test_tfidf))\n",
    "display(model_bayes.predict(test_tfidf))"
   ]
  },
  {
   "cell_type": "markdown",
   "id": "74cfa52b-49b5-44a0-9123-18abba54d051",
   "metadata": {},
   "source": [
    "## Save the model"
   ]
  },
  {
   "cell_type": "code",
   "execution_count": 53,
   "id": "0153ebdc-c943-41a0-b808-64b4c51f919a",
   "metadata": {},
   "outputs": [],
   "source": [
    "pickle.dump(model_bayes, open(\"toxicity_model.pkt\", \"wb\"))"
   ]
  },
  {
   "cell_type": "code",
   "execution_count": null,
   "id": "a59d5e55-e7a1-4935-a302-e2ff2ef84fdf",
   "metadata": {},
   "outputs": [],
   "source": []
  }
 ],
 "metadata": {
  "kernelspec": {
   "display_name": "Python 3 (ipykernel)",
   "language": "python",
   "name": "python3"
  },
  "language_info": {
   "codemirror_mode": {
    "name": "ipython",
    "version": 3
   },
   "file_extension": ".py",
   "mimetype": "text/x-python",
   "name": "python",
   "nbconvert_exporter": "python",
   "pygments_lexer": "ipython3",
   "version": "3.12.4"
  }
 },
 "nbformat": 4,
 "nbformat_minor": 5
}
